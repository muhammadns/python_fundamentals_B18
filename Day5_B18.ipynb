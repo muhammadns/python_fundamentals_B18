{
 "cells": [
  {
   "cell_type": "code",
   "execution_count": 1,
   "metadata": {},
   "outputs": [
    {
     "name": "stdout",
     "output_type": "stream",
     "text": [
      "keep up the good work, Zain\n"
     ]
    }
   ],
   "source": [
    "# Introduction to for loop statements:\n",
    "my_students = ['zain', 'hasan', 'amir', 'omar']\n",
    "print(f\"keep up the good work, {my_students[0].title()}\")"
   ]
  },
  {
   "cell_type": "code",
   "execution_count": null,
   "metadata": {},
   "outputs": [],
   "source": [
    "#general syntax:\n",
    "# for tempvar in mainvar:\n",
    "#    print(tempvar)      # indentation"
   ]
  },
  {
   "cell_type": "code",
   "execution_count": 2,
   "metadata": {},
   "outputs": [
    {
     "name": "stdout",
     "output_type": "stream",
     "text": [
      "zain\n",
      "hasan\n",
      "amir\n",
      "omar\n"
     ]
    }
   ],
   "source": [
    "for student in my_students:\n",
    "    print(student)"
   ]
  },
  {
   "cell_type": "code",
   "execution_count": 7,
   "metadata": {},
   "outputs": [
    {
     "name": "stdout",
     "output_type": "stream",
     "text": [
      "Keep up the good work, Zain\n",
      "Looking forward to receive your practice file as well, Zain.\n",
      "\n",
      "Keep up the good work, Hasan\n",
      "Looking forward to receive your practice file as well, Hasan.\n",
      "\n",
      "Keep up the good work, Amir\n",
      "Looking forward to receive your practice file as well, Amir.\n",
      "\n",
      "Keep up the good work, Omar\n",
      "Looking forward to receive your practice file as well, Omar.\n",
      "\n"
     ]
    }
   ],
   "source": [
    "for student in my_students:\n",
    "    print(f\"Keep up the good work, {student.title()}\")\n",
    "    print(f\"Looking forward to receive your practice file as well, {student.title()}.\\n\")"
   ]
  },
  {
   "cell_type": "code",
   "execution_count": 8,
   "metadata": {},
   "outputs": [
    {
     "name": "stdout",
     "output_type": "stream",
     "text": [
      "Audi\n",
      "Toyota\n",
      "Benz\n",
      "BMW\n"
     ]
    }
   ],
   "source": [
    "# introduction to if condition: occurance of an event.\n",
    "cars = ['audi','toyota', 'benz', 'bmw']\n",
    "for car in cars:                    # for loop syntax.\n",
    "    if car == 'bmw':                # equality testing.\n",
    "        print(car.upper())\n",
    "    else:\n",
    "        print(car.title())"
   ]
  },
  {
   "cell_type": "code",
   "execution_count": null,
   "metadata": {},
   "outputs": [],
   "source": []
  },
  {
   "cell_type": "code",
   "execution_count": null,
   "metadata": {},
   "outputs": [],
   "source": []
  },
  {
   "cell_type": "code",
   "execution_count": null,
   "metadata": {},
   "outputs": [],
   "source": []
  },
  {
   "cell_type": "code",
   "execution_count": null,
   "metadata": {},
   "outputs": [],
   "source": []
  },
  {
   "cell_type": "code",
   "execution_count": null,
   "metadata": {},
   "outputs": [],
   "source": []
  }
 ],
 "metadata": {
  "kernelspec": {
   "display_name": "Python 3",
   "language": "python",
   "name": "python3"
  },
  "language_info": {
   "codemirror_mode": {
    "name": "ipython",
    "version": 3
   },
   "file_extension": ".py",
   "mimetype": "text/x-python",
   "name": "python",
   "nbconvert_exporter": "python",
   "pygments_lexer": "ipython3",
   "version": "3.7.3"
  }
 },
 "nbformat": 4,
 "nbformat_minor": 2
}
