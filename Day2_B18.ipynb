{
 "cells": [
  {
   "cell_type": "code",
   "execution_count": 6,
   "metadata": {},
   "outputs": [
    {
     "name": "stdout",
     "output_type": "stream",
     "text": [
      "noman siddiqui\n",
      "Noman Siddiqui\n",
      "Hello, Noman Siddiqui\n"
     ]
    }
   ],
   "source": [
    "# Introduction to f string:\n",
    "first_name = 'noman'\n",
    "last_name = 'siddiqui'\n",
    "full_name = f\"{first_name} {last_name}\"\n",
    "print(full_name)\n",
    "print(full_name.title())\n",
    "print(f\"Hello, {full_name.title()}\")"
   ]
  },
  {
   "cell_type": "code",
   "execution_count": 10,
   "metadata": {},
   "outputs": [
    {
     "name": "stdout",
     "output_type": "stream",
     "text": [
      "python\n",
      "\tpython\n",
      "Languages:\n",
      "python\n",
      "java\n",
      "c++\n",
      "Languages:\n",
      "\tpython\n",
      "\tjava\n",
      "\tc++\n"
     ]
    }
   ],
   "source": [
    "# Adding white spaces to string by newline and tab delimiter\n",
    "x = 'python'\n",
    "print(x)\n",
    "y = '\\tpython'        #\\t is for tab.\n",
    "print(y)\n",
    "print(\"Languages:\\npython\\njava\\nc++\")        #\\n for line feed.\n",
    "print(\"Languages:\\n\\tpython\\n\\tjava\\n\\tc++\") "
   ]
  },
  {
   "cell_type": "code",
   "execution_count": 12,
   "metadata": {},
   "outputs": [
    {
     "name": "stdout",
     "output_type": "stream",
     "text": [
      "Please enter your name: noman                          \n"
     ]
    },
    {
     "data": {
      "text/plain": [
       "'noman'"
      ]
     },
     "execution_count": 12,
     "metadata": {},
     "output_type": "execute_result"
    }
   ],
   "source": [
    "# Stripping of white spaces: strip(), lstrip(), rstrip().\n",
    "input(\"Please enter your name: \").strip()"
   ]
  },
  {
   "cell_type": "code",
   "execution_count": null,
   "metadata": {},
   "outputs": [],
   "source": []
  }
 ],
 "metadata": {
  "kernelspec": {
   "display_name": "Python 3",
   "language": "python",
   "name": "python3"
  },
  "language_info": {
   "codemirror_mode": {
    "name": "ipython",
    "version": 3
   },
   "file_extension": ".py",
   "mimetype": "text/x-python",
   "name": "python",
   "nbconvert_exporter": "python",
   "pygments_lexer": "ipython3",
   "version": "3.7.3"
  }
 },
 "nbformat": 4,
 "nbformat_minor": 2
}
