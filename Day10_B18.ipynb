{
 "cells": [
  {
   "cell_type": "code",
   "execution_count": null,
   "metadata": {},
   "outputs": [],
   "source": [
    "# introduction to while loop: occurance of an event or depend on a condition\n"
   ]
  },
  {
   "cell_type": "code",
   "execution_count": 1,
   "metadata": {},
   "outputs": [
    {
     "name": "stdout",
     "output_type": "stream",
     "text": [
      "1\n",
      "2\n",
      "3\n",
      "4\n",
      "5\n"
     ]
    }
   ],
   "source": [
    "current_number = 1\n",
    "while current_number <= 5: # it will accept till 5 numbers.\n",
    "    print(current_number)\n",
    "    current_number +=1     # increment current_number by 1."
   ]
  },
  {
   "cell_type": "code",
   "execution_count": 3,
   "metadata": {},
   "outputs": [
    {
     "name": "stdout",
     "output_type": "stream",
     "text": [
      "\n",
      "Tell me something and I will repeat it for you: \n",
      "Enter 'quit to end the program quit\n",
      "quit\n"
     ]
    }
   ],
   "source": [
    "prompt = \"\\nTell me something and I will repeat it for you: \"\n",
    "prompt += \"\\nEnter 'quit to end the program \"\n",
    "message =\" \"\n",
    "while message != 'quit':\n",
    "    message = input(prompt)\n",
    "    print(message)"
   ]
  },
  {
   "cell_type": "code",
   "execution_count": null,
   "metadata": {},
   "outputs": [],
   "source": [
    "# using break to exit a loop:\n"
   ]
  },
  {
   "cell_type": "code",
   "execution_count": 5,
   "metadata": {},
   "outputs": [
    {
     "name": "stdout",
     "output_type": "stream",
     "text": [
      "\n",
      " Please enter the name of the city you have visited: \n",
      "(Enter 'quit' when you are finished)dc\n",
      "I'd love to go to Dc!\n",
      "\n",
      " Please enter the name of the city you have visited: \n",
      "(Enter 'quit' when you are finished)quit\n"
     ]
    }
   ],
   "source": [
    "prompt = \"\\n Please enter the name of the city you have visited: \"\n",
    "prompt += \"\\n(Enter 'quit' when you are finished)\"\n",
    "while True:\n",
    "    city = input(prompt)\n",
    "    if city == 'quit':\n",
    "        break\n",
    "    else:\n",
    "        print(f\"I'd love to go to {city.title()}!\")"
   ]
  },
  {
   "cell_type": "code",
   "execution_count": null,
   "metadata": {},
   "outputs": [],
   "source": [
    "# introduction to Functions in Python: code reusability (code written once and read million times)"
   ]
  },
  {
   "cell_type": "code",
   "execution_count": null,
   "metadata": {},
   "outputs": [],
   "source": [
    "# how to define a function:\n",
    "# def keyword to define a function."
   ]
  },
  {
   "cell_type": "code",
   "execution_count": 9,
   "metadata": {},
   "outputs": [],
   "source": [
    "def greet_user():                      # defining a function, name always in lower case.\n",
    "    \"\"\"Display a simple greeting\"\"\"    # Doc-string --- tripple quotation.\n",
    "    print(\"Hello!\")                    # Display a greeting messgae."
   ]
  },
  {
   "cell_type": "code",
   "execution_count": 10,
   "metadata": {},
   "outputs": [
    {
     "name": "stdout",
     "output_type": "stream",
     "text": [
      "Hello!\n"
     ]
    }
   ],
   "source": [
    "greet_user()                       # function called."
   ]
  },
  {
   "cell_type": "code",
   "execution_count": 11,
   "metadata": {},
   "outputs": [],
   "source": [
    "# Define a function to greet a user:\n",
    "def greet_user(username):\n",
    "    \"\"\"Display\"\"\"\n",
    "    print(f\"Helllo, good to see you back {username.title()}!\")"
   ]
  },
  {
   "cell_type": "code",
   "execution_count": 12,
   "metadata": {},
   "outputs": [
    {
     "name": "stdout",
     "output_type": "stream",
     "text": [
      "Helllo, good to see you back Noman!\n"
     ]
    }
   ],
   "source": [
    "greet_user('noman')"
   ]
  },
  {
   "cell_type": "code",
   "execution_count": null,
   "metadata": {},
   "outputs": [],
   "source": []
  }
 ],
 "metadata": {
  "kernelspec": {
   "display_name": "Python 3",
   "language": "python",
   "name": "python3"
  },
  "language_info": {
   "codemirror_mode": {
    "name": "ipython",
    "version": 3
   },
   "file_extension": ".py",
   "mimetype": "text/x-python",
   "name": "python",
   "nbconvert_exporter": "python",
   "pygments_lexer": "ipython3",
   "version": "3.7.3"
  }
 },
 "nbformat": 4,
 "nbformat_minor": 2
}
