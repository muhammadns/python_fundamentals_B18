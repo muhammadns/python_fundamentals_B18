{
 "cells": [
  {
   "cell_type": "code",
   "execution_count": null,
   "metadata": {},
   "outputs": [],
   "source": [
    "# intorduction of tuple data type: it is immutable / can not alter or modify data type.\n",
    "# tuple define by using ()"
   ]
  },
  {
   "cell_type": "code",
   "execution_count": 3,
   "metadata": {},
   "outputs": [
    {
     "name": "stdout",
     "output_type": "stream",
     "text": [
      "(20, 30, 40, 50)\n"
     ]
    },
    {
     "data": {
      "text/plain": [
       "tuple"
      ]
     },
     "execution_count": 3,
     "metadata": {},
     "output_type": "execute_result"
    }
   ],
   "source": [
    "dimensions = (20, 30, 40, 50)\n",
    "print(dimensions)\n",
    "type(dimensions)"
   ]
  },
  {
   "cell_type": "code",
   "execution_count": 6,
   "metadata": {},
   "outputs": [
    {
     "name": "stdout",
     "output_type": "stream",
     "text": [
      "40\n"
     ]
    }
   ],
   "source": [
    "print(dimensions[2])"
   ]
  },
  {
   "cell_type": "code",
   "execution_count": null,
   "metadata": {},
   "outputs": [],
   "source": [
    "# introduction to dictionary data type: real world data objects.\n",
    "# dict is a mutable data type, define dict by using {}\n",
    "# dict datatype stores the data in the form of KEY VALUE pair.\n"
   ]
  },
  {
   "cell_type": "code",
   "execution_count": 12,
   "metadata": {},
   "outputs": [
    {
     "name": "stdout",
     "output_type": "stream",
     "text": [
      "{'firstname:': 'code', 'lastname': 'training', 'username': 'codetraining1', 'pwd': 'abcd', 'DOB': '01/01/1999'}\n"
     ]
    }
   ],
   "source": [
    "useraccount = {'firstname:':'code', 'lastname':'training','username':'codetraining1','pwd':'abcd','DOB':'01/01/1999'}\n",
    "print(useraccount)"
   ]
  },
  {
   "cell_type": "code",
   "execution_count": 10,
   "metadata": {},
   "outputs": [
    {
     "data": {
      "text/plain": [
       "dict"
      ]
     },
     "execution_count": 10,
     "metadata": {},
     "output_type": "execute_result"
    }
   ],
   "source": [
    "type(useraccount)"
   ]
  },
  {
   "cell_type": "code",
   "execution_count": 14,
   "metadata": {},
   "outputs": [
    {
     "name": "stdout",
     "output_type": "stream",
     "text": [
      "codetraining1\n",
      "01/01/1999\n"
     ]
    }
   ],
   "source": [
    "# how tp acces the value from dictionary?\n",
    "print(useraccount['username'])\n",
    "print(useraccount['DOB'])"
   ]
  },
  {
   "cell_type": "code",
   "execution_count": 15,
   "metadata": {},
   "outputs": [
    {
     "name": "stdout",
     "output_type": "stream",
     "text": [
      "{'firstname:': 'code', 'lastname': 'training', 'username': 'codetraining1', 'pwd': 'xyz', 'DOB': '01/01/1999'}\n"
     ]
    }
   ],
   "source": [
    "# how to reassign the value in dictionary?\n",
    "useraccount['pwd'] = 'xyz'\n",
    "print(useraccount)"
   ]
  },
  {
   "cell_type": "code",
   "execution_count": 17,
   "metadata": {},
   "outputs": [],
   "source": [
    "# with KEY we can access VALUE but can not access KEY using VALUE."
   ]
  },
  {
   "cell_type": "code",
   "execution_count": null,
   "metadata": {},
   "outputs": [],
   "source": []
  }
 ],
 "metadata": {
  "kernelspec": {
   "display_name": "Python 3",
   "language": "python",
   "name": "python3"
  },
  "language_info": {
   "codemirror_mode": {
    "name": "ipython",
    "version": 3
   },
   "file_extension": ".py",
   "mimetype": "text/x-python",
   "name": "python",
   "nbconvert_exporter": "python",
   "pygments_lexer": "ipython3",
   "version": "3.7.3"
  }
 },
 "nbformat": 4,
 "nbformat_minor": 2
}
