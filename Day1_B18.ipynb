{
 "cells": [
  {
   "cell_type": "code",
   "execution_count": 1,
   "metadata": {},
   "outputs": [],
   "source": [
    "# Rules for declearing the variables in Python.\n",
    "# 1. No name space in a variable.\n",
    "# 2. No number at the start of a variable.\n",
    "# 3. No special character in a variable."
   ]
  },
  {
   "cell_type": "code",
   "execution_count": 2,
   "metadata": {},
   "outputs": [],
   "source": [
    "# Introduction to data types:\n",
    "# 1. string ---> str\n",
    "# 2. list\n",
    "# 3. tuple\n",
    "# 4. dictionary ---> dict"
   ]
  },
  {
   "cell_type": "code",
   "execution_count": 3,
   "metadata": {},
   "outputs": [],
   "source": [
    "# Classification of data type:\n",
    "# 1. mutable data type: will be able toalter, modify or reassign the data.\n",
    "# 2. Immutable data type: will not be able to alter, modify or reassign the data."
   ]
  },
  {
   "cell_type": "code",
   "execution_count": 4,
   "metadata": {},
   "outputs": [],
   "source": [
    "# Introduction to string data type:\n",
    "# string is a series of character and it is immutable data type.\n",
    "# 3 ways to define a string: single quotes, double quotes, tripple quotes."
   ]
  },
  {
   "cell_type": "code",
   "execution_count": null,
   "metadata": {},
   "outputs": [],
   "source": [
    "# Introduction to string methods: built in methods:\n",
    "# type(variable name)\n",
    "# title()\n",
    "# upper() / lower()"
   ]
  },
  {
   "cell_type": "code",
   "execution_count": 8,
   "metadata": {},
   "outputs": [
    {
     "name": "stdout",
     "output_type": "stream",
     "text": [
      "<class 'str'>\n",
      "Noman Siddiqui\n",
      "NOMAN SIDDIQUI\n"
     ]
    }
   ],
   "source": [
    "full_name = \"noman siddiqui\"\n",
    "print(type(full_name))\n",
    "print(full_name.title())\n",
    "print(full_name.upper())"
   ]
  },
  {
   "cell_type": "code",
   "execution_count": null,
   "metadata": {},
   "outputs": [],
   "source": []
  }
 ],
 "metadata": {
  "kernelspec": {
   "display_name": "Python 3",
   "language": "python",
   "name": "python3"
  },
  "language_info": {
   "codemirror_mode": {
    "name": "ipython",
    "version": 3
   },
   "file_extension": ".py",
   "mimetype": "text/x-python",
   "name": "python",
   "nbconvert_exporter": "python",
   "pygments_lexer": "ipython3",
   "version": "3.7.3"
  }
 },
 "nbformat": 4,
 "nbformat_minor": 2
}
