{
 "cells": [
  {
   "cell_type": "code",
   "execution_count": null,
   "metadata": {},
   "outputs": [],
   "source": [
    "# looping through dictionaries:\n",
    "# "
   ]
  },
  {
   "cell_type": "code",
   "execution_count": 2,
   "metadata": {},
   "outputs": [
    {
     "name": "stdout",
     "output_type": "stream",
     "text": [
      "{'f_name': 'code', 'l_name': 'training', 'username': 'codetraining01', 'pwd': 12345, 'dob': '01-01-2019'}\n"
     ]
    }
   ],
   "source": [
    "user1 = {'f_name':'code', 'l_name':'training','username':'codetraining01','pwd':12345, 'dob':'01-01-2019'}\n",
    "print(user1)"
   ]
  },
  {
   "cell_type": "code",
   "execution_count": 6,
   "metadata": {},
   "outputs": [
    {
     "name": "stdout",
     "output_type": "stream",
     "text": [
      "key: f_name\n",
      "value: code\n",
      "key: l_name\n",
      "value: training\n",
      "key: username\n",
      "value: codetraining01\n",
      "key: pwd\n",
      "value: 12345\n",
      "key: dob\n",
      "value: 01-01-2019\n"
     ]
    }
   ],
   "source": [
    "# for tempvar1, tempvar2 in dictionaryname.items().................... items() is the key word\n",
    "\n",
    "for key, value in user1.items():\n",
    "    print(f\"key: {key}\")\n",
    "    print(f\"value: {value}\")"
   ]
  },
  {
   "cell_type": "code",
   "execution_count": 7,
   "metadata": {},
   "outputs": [
    {
     "name": "stdout",
     "output_type": "stream",
     "text": [
      "key: f_name\n",
      "value: code\n",
      "\n",
      "key: l_name\n",
      "value: training\n",
      "\n",
      "key: username\n",
      "value: codetraining01\n",
      "\n",
      "key: pwd\n",
      "value: 12345\n",
      "\n",
      "key: dob\n",
      "value: 01-01-2019\n",
      "\n"
     ]
    }
   ],
   "source": [
    "for key, value in user1.items():\n",
    "    print(f\"key: {key}\")\n",
    "    print(f\"value: {value}\\n\")"
   ]
  },
  {
   "cell_type": "code",
   "execution_count": 10,
   "metadata": {},
   "outputs": [
    {
     "name": "stdout",
     "output_type": "stream",
     "text": [
      "f_name\n",
      "l_name\n",
      "username\n",
      "pwd\n",
      "dob\n"
     ]
    }
   ],
   "source": [
    "for a in user1.keys():\n",
    "    print(a)"
   ]
  },
  {
   "cell_type": "code",
   "execution_count": null,
   "metadata": {},
   "outputs": [],
   "source": []
  },
  {
   "cell_type": "code",
   "execution_count": 11,
   "metadata": {},
   "outputs": [
    {
     "name": "stdout",
     "output_type": "stream",
     "text": [
      "code\n",
      "training\n",
      "codetraining01\n",
      "12345\n",
      "01-01-2019\n"
     ]
    }
   ],
   "source": [
    "for b in user1.values():\n",
    "    print(b)"
   ]
  },
  {
   "cell_type": "code",
   "execution_count": 13,
   "metadata": {},
   "outputs": [
    {
     "name": "stdout",
     "output_type": "stream",
     "text": [
      "{'noman': 'c', 'amir': 'python', 'zain': 'cobol'}\n"
     ]
    },
    {
     "data": {
      "text/plain": [
       "dict"
      ]
     },
     "execution_count": 13,
     "metadata": {},
     "output_type": "execute_result"
    }
   ],
   "source": [
    "fav_languages = {'noman':'c','amir':'python', 'zain':'cobol'}\n",
    "print(fav_languages)\n",
    "type(fav_languages)"
   ]
  },
  {
   "cell_type": "code",
   "execution_count": 16,
   "metadata": {},
   "outputs": [
    {
     "name": "stdout",
     "output_type": "stream",
     "text": [
      " Noman's favorite language is C\n",
      " Amir's favorite language is Python\n",
      " Zain's favorite language is Cobol\n"
     ]
    }
   ],
   "source": [
    "for name, language in fav_languages.items():\n",
    "    print(f\" {name.title()}'s favorite language is {language.title()}\")"
   ]
  },
  {
   "cell_type": "code",
   "execution_count": null,
   "metadata": {},
   "outputs": [],
   "source": []
  },
  {
   "cell_type": "code",
   "execution_count": null,
   "metadata": {},
   "outputs": [],
   "source": []
  },
  {
   "cell_type": "code",
   "execution_count": null,
   "metadata": {},
   "outputs": [],
   "source": []
  },
  {
   "cell_type": "code",
   "execution_count": null,
   "metadata": {},
   "outputs": [],
   "source": []
  },
  {
   "cell_type": "code",
   "execution_count": null,
   "metadata": {},
   "outputs": [],
   "source": []
  }
 ],
 "metadata": {
  "kernelspec": {
   "display_name": "Python 3",
   "language": "python",
   "name": "python3"
  },
  "language_info": {
   "codemirror_mode": {
    "name": "ipython",
    "version": 3
   },
   "file_extension": ".py",
   "mimetype": "text/x-python",
   "name": "python",
   "nbconvert_exporter": "python",
   "pygments_lexer": "ipython3",
   "version": "3.7.3"
  }
 },
 "nbformat": 4,
 "nbformat_minor": 2
}
