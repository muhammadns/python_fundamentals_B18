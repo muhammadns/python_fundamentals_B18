{
 "cells": [
  {
   "cell_type": "code",
   "execution_count": 7,
   "metadata": {},
   "outputs": [
    {
     "name": "stdout",
     "output_type": "stream",
     "text": [
      "The shirt size is M and message is Hello World!\n"
     ]
    }
   ],
   "source": [
    "# function make_shirt with positional arguments:\n",
    "\n",
    "def make_shirt(size, message):\n",
    "    print(f\"The shirt size is {size} and message is {message}!\")\n",
    "        \n",
    "make_shirt('M','Hello World')"
   ]
  },
  {
   "cell_type": "code",
   "execution_count": 8,
   "metadata": {},
   "outputs": [
    {
     "name": "stdout",
     "output_type": "stream",
     "text": [
      "The shirt size is L and message is Happy World!\n"
     ]
    }
   ],
   "source": [
    "# function make_shirt with keyword arguments:\n",
    "\n",
    "def make_shirt(size, message):\n",
    "    print(f\"The shirt size is {size} and message is {message}!\")\n",
    "        \n",
    "make_shirt(message='Happy World', size='L')"
   ]
  },
  {
   "cell_type": "code",
   "execution_count": null,
   "metadata": {},
   "outputs": [],
   "source": [
    "def make_shirt():\n",
    "    size = input(\"Please provide shirt size (L,M,S): \").strip().title()\n",
    "    message = input(\" Please provide the messgae: \").strip().title()\n",
    "    print(f\"The shirt size is {size} and message is {message}!\")\n",
    "        \n",
    "make_shirt()"
   ]
  },
  {
   "cell_type": "code",
   "execution_count": 18,
   "metadata": {},
   "outputs": [
    {
     "name": "stdout",
     "output_type": "stream",
     "text": [
      "The shirt size is S and message is Hello World!\n"
     ]
    }
   ],
   "source": [
    "# function make_shirt with message:\n",
    "\n",
    "def make_shirt(size):\n",
    "    if size.upper() in 'LM':\n",
    "        message = 'I love Python'\n",
    "    else:\n",
    "        message = 'Hello World'\n",
    "    print(f\"The shirt size is {size.upper()} and message is {message}!\")\n",
    "        \n",
    "make_shirt('s')"
   ]
  },
  {
   "cell_type": "code",
   "execution_count": 25,
   "metadata": {},
   "outputs": [
    {
     "name": "stdout",
     "output_type": "stream",
     "text": [
      "The city Boston is in USA!\n",
      "The city New York is in USA!\n",
      "The city London is in ENGLAND!\n"
     ]
    }
   ],
   "source": [
    "# function describe_city with message.\n",
    "\n",
    "def describe_city(city, country='usa'):\n",
    "    print(f\"The city {city.title()} is in {country.upper()}!\")\n",
    "    \n",
    "describe_city('boston')\n",
    "describe_city('new york')\n",
    "describe_city('london','england')"
   ]
  },
  {
   "cell_type": "code",
   "execution_count": null,
   "metadata": {},
   "outputs": [],
   "source": []
  }
 ],
 "metadata": {
  "kernelspec": {
   "display_name": "Python 3",
   "language": "python",
   "name": "python3"
  },
  "language_info": {
   "codemirror_mode": {
    "name": "ipython",
    "version": 3
   },
   "file_extension": ".py",
   "mimetype": "text/x-python",
   "name": "python",
   "nbconvert_exporter": "python",
   "pygments_lexer": "ipython3",
   "version": "3.7.3"
  }
 },
 "nbformat": 4,
 "nbformat_minor": 2
}
