{
 "cells": [
  {
   "cell_type": "code",
   "execution_count": 2,
   "metadata": {},
   "outputs": [
    {
     "name": "stdout",
     "output_type": "stream",
     "text": [
      "['noman', 'zain', 'noor', 'khan']\n"
     ]
    },
    {
     "data": {
      "text/plain": [
       "list"
      ]
     },
     "execution_count": 2,
     "metadata": {},
     "output_type": "execute_result"
    }
   ],
   "source": [
    "# introduction to list datatype: is a collection of items in an order.\n",
    "# it is mutable data type.\n",
    "# define a list in []\n",
    "student = ['noman', 'zain', 'noor', 'khan']\n",
    "print(student)\n",
    "type(student)"
   ]
  },
  {
   "cell_type": "code",
   "execution_count": 10,
   "metadata": {},
   "outputs": [
    {
     "name": "stdout",
     "output_type": "stream",
     "text": [
      "Mahnoor\n",
      "['noman', 'zain', 'Mahnoor', 'khan', 'malik', 'malik', 'malik']\n",
      "['noman', 'zain', 'Mahnoor', 'khan', 'malik', 'malik', 'malik']\n",
      "['noman', 'zain', 'Mahnoor', 'fahad', 'khan', 'malik', 'malik', 'malik']\n"
     ]
    }
   ],
   "source": [
    "# understanding the indexing: start form 0,1,2,3,....\n",
    "print(student[2])\n",
    "# reassiging, append, \n",
    "student[2] = 'Mahnoor'\n",
    "print(student)\n",
    "\n"
   ]
  },
  {
   "cell_type": "code",
   "execution_count": 11,
   "metadata": {},
   "outputs": [
    {
     "name": "stdout",
     "output_type": "stream",
     "text": [
      "['noman', 'zain', 'Mahnoor', 'fahad', 'khan', 'malik', 'malik', 'malik']\n"
     ]
    }
   ],
   "source": [
    "student.append('malik')\n",
    "print(student)\n"
   ]
  },
  {
   "cell_type": "code",
   "execution_count": 12,
   "metadata": {},
   "outputs": [
    {
     "name": "stdout",
     "output_type": "stream",
     "text": [
      "['noman', 'zain', 'Mahnoor', 'fahad', 'fahad', 'khan', 'malik', 'malik', 'malik']\n"
     ]
    }
   ],
   "source": [
    "student.insert(3, 'fahad')\n",
    "print(student)"
   ]
  },
  {
   "cell_type": "code",
   "execution_count": 14,
   "metadata": {},
   "outputs": [
    {
     "name": "stdout",
     "output_type": "stream",
     "text": [
      "['noman', 'zain', 'Mahnoor', 'fahad', 'khan', 'malik', 'malik', 'malik']\n"
     ]
    }
   ],
   "source": [
    "del student[3]\n",
    "print(student)"
   ]
  },
  {
   "cell_type": "code",
   "execution_count": 16,
   "metadata": {},
   "outputs": [
    {
     "name": "stdout",
     "output_type": "stream",
     "text": [
      "['noman', 'zain', 'Mahnoor', 'fahad', 'khan', 'malik', 'malik', 'malik']\n",
      "['noman', 'zain', 'Mahnoor', 'fahad', 'khan', 'malik', 'malik']\n",
      "malik\n"
     ]
    }
   ],
   "source": [
    "# pop is used to delete the elements from the list, it will create a carbon copy of the items deleted.\n",
    "# by default pop will be deleting the items at the end of the list.\n",
    "print(student)\n",
    "x = student.pop()\n",
    "print(student)\n",
    "print(x)"
   ]
  },
  {
   "cell_type": "code",
   "execution_count": 17,
   "metadata": {},
   "outputs": [
    {
     "name": "stdout",
     "output_type": "stream",
     "text": [
      "['noman', 'zain', 'Mahnoor', 'fahad', 'khan', 'malik', 'malik']\n",
      "['noman', 'zain', 'Mahnoor', 'khan', 'malik', 'malik']\n",
      "fahad\n"
     ]
    }
   ],
   "source": [
    "print(student)\n",
    "y = student.pop(3)\n",
    "print(student)\n",
    "print(y)"
   ]
  },
  {
   "cell_type": "code",
   "execution_count": 18,
   "metadata": {},
   "outputs": [
    {
     "name": "stdout",
     "output_type": "stream",
     "text": [
      "The Zen of Python, by Tim Peters\n",
      "\n",
      "Beautiful is better than ugly.\n",
      "Explicit is better than implicit.\n",
      "Simple is better than complex.\n",
      "Complex is better than complicated.\n",
      "Flat is better than nested.\n",
      "Sparse is better than dense.\n",
      "Readability counts.\n",
      "Special cases aren't special enough to break the rules.\n",
      "Although practicality beats purity.\n",
      "Errors should never pass silently.\n",
      "Unless explicitly silenced.\n",
      "In the face of ambiguity, refuse the temptation to guess.\n",
      "There should be one-- and preferably only one --obvious way to do it.\n",
      "Although that way may not be obvious at first unless you're Dutch.\n",
      "Now is better than never.\n",
      "Although never is often better than *right* now.\n",
      "If the implementation is hard to explain, it's a bad idea.\n",
      "If the implementation is easy to explain, it may be a good idea.\n",
      "Namespaces are one honking great idea -- let's do more of those!\n"
     ]
    }
   ],
   "source": [
    "import this"
   ]
  },
  {
   "cell_type": "code",
   "execution_count": null,
   "metadata": {},
   "outputs": [],
   "source": []
  }
 ],
 "metadata": {
  "kernelspec": {
   "display_name": "Python 3",
   "language": "python",
   "name": "python3"
  },
  "language_info": {
   "codemirror_mode": {
    "name": "ipython",
    "version": 3
   },
   "file_extension": ".py",
   "mimetype": "text/x-python",
   "name": "python",
   "nbconvert_exporter": "python",
   "pygments_lexer": "ipython3",
   "version": "3.7.3"
  }
 },
 "nbformat": 4,
 "nbformat_minor": 2
}
