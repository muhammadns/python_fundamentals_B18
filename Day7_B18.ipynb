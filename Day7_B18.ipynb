{
 "cells": [
  {
   "cell_type": "code",
   "execution_count": 2,
   "metadata": {},
   "outputs": [
    {
     "name": "stdout",
     "output_type": "stream",
     "text": [
      "Tell me something and I will repaeta it back to you: Hello world!\n",
      "Hello world!\n"
     ]
    }
   ],
   "source": [
    "# understanding user accepted input:\n",
    "message = input(\"Tell me something and I will repaeta it back to you: \")\n",
    "print(message)"
   ]
  },
  {
   "cell_type": "code",
   "execution_count": 7,
   "metadata": {},
   "outputs": [
    {
     "name": "stdout",
     "output_type": "stream",
     "text": [
      "Please enter your name:                noman\n",
      "Welcomeback, good to have you again, Noman\n"
     ]
    }
   ],
   "source": [
    "name = input('Please enter your name: ').strip()\n",
    "print(f\"Welcomeback, good to have you again, {name.title()}\")"
   ]
  },
  {
   "cell_type": "code",
   "execution_count": 10,
   "metadata": {},
   "outputs": [
    {
     "name": "stdout",
     "output_type": "stream",
     "text": [
      "What is your height? 48\n",
      "48\n"
     ]
    },
    {
     "data": {
      "text/plain": [
       "False"
      ]
     },
     "execution_count": 10,
     "metadata": {},
     "output_type": "execute_result"
    }
   ],
   "source": [
    "# typecasting, cast the data type from one form to another form.\n",
    "height = input('What is your height? ')\n",
    "print(height)\n",
    "height = int(height)\n",
    "height > 50\n",
    "# str ---> string,  int ---> integer"
   ]
  },
  {
   "cell_type": "code",
   "execution_count": 13,
   "metadata": {},
   "outputs": [
    {
     "name": "stdout",
     "output_type": "stream",
     "text": [
      "How old are you? 17\n",
      "You are not eligible to vote.\n",
      "Try next year\n"
     ]
    }
   ],
   "source": [
    "# case study : building a simple voting application:\n",
    "age = input('How old are you? ')      # acceptance of input from user.\n",
    "age = int(age)                        # typecasting data type.\n",
    "if age >= 18:                         # if else logic implementation.\n",
    "    print(\"You are eligible to vote!\")\n",
    "    print(\"Have you registered your name?\")\n",
    "else:\n",
    "    print(\"You are not eligible to vote.\")\n",
    "    print(\"Try next year\")"
   ]
  },
  {
   "cell_type": "code",
   "execution_count": null,
   "metadata": {},
   "outputs": [],
   "source": []
  }
 ],
 "metadata": {
  "kernelspec": {
   "display_name": "Python 3",
   "language": "python",
   "name": "python3"
  },
  "language_info": {
   "codemirror_mode": {
    "name": "ipython",
    "version": 3
   },
   "file_extension": ".py",
   "mimetype": "text/x-python",
   "name": "python",
   "nbconvert_exporter": "python",
   "pygments_lexer": "ipython3",
   "version": "3.7.3"
  }
 },
 "nbformat": 4,
 "nbformat_minor": 2
}
